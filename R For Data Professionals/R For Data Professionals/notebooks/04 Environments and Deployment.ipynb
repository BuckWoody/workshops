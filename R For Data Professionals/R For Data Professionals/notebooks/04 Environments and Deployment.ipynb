{
 "cells": [
  {
   "cell_type": "markdown",
   "metadata": {
    "collapsed": true
   },
   "source": [
    "![](../graphics/solutions-microsoft-logo-small.png)\n",
    "\n",
    "# R for Data Professionals\n",
    "\n",
    "## 04 Environments and Deployment\n",
    "\n",
    "<p style=\"border-bottom: 1px solid lightgrey;\"></p>\n",
    "\n",
    "<dl>\n",
    "  <dt>Course Outline</dt>\n",
    "  <dt>1 - Overview and Course Setup</dt>\n",
    "  <dt>2 - Programming Basics</dt>\n",
    "  <dt>3 Working with Data</dt>\n",
    "  <dt>4 Deployment and Environments <i>(This section)</i></dt>\n",
    "    <dd>4.1 checkpoint and packrat</dd>\n",
    "    <dd>4.2 save() and save()</dd>\n",
    "<dl>\n",
    "\n",
    "<p style=\"border-bottom: 1px solid lightgrey;\"></p>"
   ]
  },
  {
   "cell_type": "markdown",
   "metadata": {},
   "source": [
    "As you start this topic, it's important to define some terms. The word \"environment\" in this course has multiple levels:\n",
    "\n",
    "- The operating system where you installed R\n",
    "- The abstraction layer you work with outside of R (containers, for example)\n",
    "- The variables within the R session (\"EnvVar\")\n",
    "- Setting up an environment (a space) in code to store a bounded set of variables\n",
    "\n",
    "In this overview course, you'll briefly cover the first three areas, and you'll find references for those. For the last item, learn more about  \n",
    "\n",
    "The main installation of R - sometimes called \"Core\" or \"base\" - has a set of parameters it works with. Since it runs on many operating systems, these variables are set and altered in different ways. You can see these by typing the following command:\n",
    "\n",
    "`??env`\n",
    "\n",
    "That command will bring up a very extensive set of topics that deals with everything from the startup of the R environment to controlling which editor you default to.\n",
    "\n",
    "To see the settings you're using now, use this function:\n",
    "\n",
    "`Sys.getenv()`\n",
    "\n",
    "Containers such as Docker allow an abstraction layer above the operating system, and you'll cover that in the next topic."
   ]
  },
  {
   "cell_type": "code",
   "execution_count": 1,
   "metadata": {},
   "outputs": [],
   "source": [
    "# Try it:\n"
   ]
  },
  {
   "cell_type": "markdown",
   "metadata": {},
   "source": [
    "<p><img style=\"float: left; margin: 0px 15px 15px 0px;\" src=\"../graphics/cortanalogo.png\"><b>4.1 Installing Libraries</b></p>\n",
    "\n",
    "To install new Libraries, you can build the source code manually, but that's not the way it's most often done. Typically you use the library functions.\n",
    "\n",
    "`??Library`\n",
    "\n",
    "You can install a Package and it's Libraries using this command:\n",
    "\n",
    "`install.packages(packagename)`\n",
    "\n",
    "Use the Library you installed with this command:\n",
    "\n",
    "`library(packagename)`\n",
    "\n",
    "And you can remove a Library with this command:\n",
    "\n",
    "`remove.packages(packagename)`\n",
    "\n",
    "To show the currently installed and called Libraries, use this command:\n",
    "\n",
    "`library()`"
   ]
  },
  {
   "cell_type": "code",
   "execution_count": 1,
   "metadata": {},
   "outputs": [
    {
     "data": {},
     "metadata": {},
     "output_type": "display_data"
    }
   ],
   "source": [
    "# Try it:\n",
    "\n",
    "??env"
   ]
  },
  {
   "cell_type": "markdown",
   "metadata": {},
   "source": [
    "<p><img style=\"float: left; margin: 0px 15px 15px 0px;\" src=\"../graphics/cortanalogo.png\"><b>4.2 Reproducible R</b></p>\n",
    "\n",
    "\"Encoding\" in R means to serialize a R object. Perhaps that isn't very helpful - what it really means is to take the output of whatever you did in R and make it available again in another environment or program. It's a way of saving the \"state\" of a program so that it can be transferred and then re-loaded. There are two functions you can use to serialize R objects and then load them:\n"
   ]
  },
  {
   "cell_type": "code",
   "execution_count": 3,
   "metadata": {},
   "outputs": [
    {
     "data": {
      "text/html": [
       "'xx'"
      ],
      "text/latex": [
       "'xx'"
      ],
      "text/markdown": [
       "'xx'"
      ],
      "text/plain": [
       "[1] \"xx\""
      ]
     },
     "metadata": {},
     "output_type": "display_data"
    }
   ],
   "source": [
    "  ## save all data\n",
    "  xx <- pi # to ensure there is some data\n",
    "  save(list = ls(all = TRUE), file= \"all.rda\")\n",
    "  rm(xx)\n",
    "\n",
    "  ## restore the saved values to the current environment\n",
    "  local({\n",
    "    load(\"all.rda\")\n",
    "    ls()\n",
    "  })\n"
   ]
  },
  {
   "cell_type": "markdown",
   "metadata": {},
   "source": [
    "There are a couple of other ways to save not only the current variables and outcomes of your R session, but the entire environment as well. As you might expect, you use a Library to do this work. The first Package to be aware of is checkpoint. Once installed and loaded, you use a `checkpoint()` command to \"start\" the session, do some work, and then \"save\" the session on disk. Here's a complete example from the documentation:"
   ]
  },
  {
   "cell_type": "code",
   "execution_count": 1,
   "metadata": {
    "collapsed": true
   },
   "outputs": [
    {
     "name": "stderr",
     "output_type": "stream",
     "text": [
      "\n",
      "checkpoint: Part of the Reproducible R Toolkit from Microsoft\n",
      "https://mran.microsoft.com/documents/rro/reproducibility/\n"
     ]
    },
    {
     "ename": "ERROR",
     "evalue": "Error in authorizeFileSystemUse(checkpointLocation): The .checkpoint folder does not exist. Please try again after creating the folder at C:\\Users\\ADMINI~1\\AppData\\Local\\Temp\\1\\RtmpOEHUuG\\.checkpoint\n",
     "output_type": "error",
     "traceback": [
      "Error in authorizeFileSystemUse(checkpointLocation): The .checkpoint folder does not exist. Please try again after creating the folder at C:\\Users\\ADMINI~1\\AppData\\Local\\Temp\\1\\RtmpOEHUuG\\.checkpoint\nTraceback:\n",
      "1. checkpoint(\"2015-04-26\", checkpointLocation = tempdir())",
      "2. authorizeFileSystemUse(checkpointLocation)",
      "3. stop(paste(\"The .checkpoint folder does not exist. Please try again after creating the folder at\", \n .     normalizePath(checkpointRoot, mustWork = FALSE)))"
     ]
    }
   ],
   "source": [
    "  library(checkpoint)\n",
    "  checkpoint(\"2015-04-26\", checkpointLocation = tempdir())\n",
    "\n",
    "  # Example from ?darts\n",
    "  library(darts)\n",
    "  x = c(12,16,19,3,17,1,25,19,17,50,18,1,3,17,2,2,13,18,16,2,25,5,5,\n",
    "        1,5,4,17,25,25,50,3,7,17,17,3,3,3,7,11,10,25,1,19,15,4,1,5,12,17,16,\n",
    "        50,20,20,20,25,50,2,17,3,20,20,20,5,1,18,15,2,3,25,12,9,3,3,19,16,20,\n",
    "        5,5,1,4,15,16,5,20,16,2,25,6,12,25,11,25,7,2,5,19,17,17,2,12)\n",
    "  mod = simpleEM(x, niter=100)\n",
    "  e = simpleExpScores(mod$s.final)\n",
    "  oldpar <- par(mfrow=c(1, 2))\n",
    "  drawHeatmap(e)\n",
    "  drawBoard(new=TRUE)\n",
    "  drawAimSpot(e, cex = 5)\n",
    "  par(oldpar)\n",
    "\n",
    "  ## Create a folder to contain the checkpoint\n",
    "  ## This is optional - the default is to use ~/.checkpoint\n",
    "\n",
    "  dir.create(file.path(tempdir(), \".checkpoint\"), recursive = TRUE, showWarnings = FALSE)\n",
    "\n",
    "  ## Create a checkpoint by specifying a snapshot date\n",
    "\n",
    "  library(checkpoint)"
   ]
  },
  {
   "cell_type": "markdown",
   "metadata": {},
   "source": [
    "You can read a lot more about this process here: https://cran.r-project.org/web/packages/checkpoint/vignettes/checkpoint.html\n",
    "\n",
    "Another popular serializer is *packrat*. It works in much the same way as checkpoint, in that you start the program, do your work, save the stream, and then close the project. You can find more about packrat here: https://github.com/rstudio/packrat/. "
   ]
  },
  {
   "cell_type": "markdown",
   "metadata": {},
   "source": [
    "<p><img style=\"float: left; margin: 0px 15px 15px 0px;\" src=\"../graphics/aml-logo.png\"><b> Activity - Reproduceable R</b></p>\n",
    "\n",
    "Now open the `/code/04_EnvironmentsAndDeployment.py` file and follow the instructions you see there for 4.2."
   ]
  },
  {
   "cell_type": "code",
   "execution_count": null,
   "metadata": {},
   "outputs": [],
   "source": [
    "# <TODO> - 4.2 Create a program that has three text variables. Combine these three into another varaible. \n",
    "# Load the pickle library and save the results of the first program as a pkl file.\n",
    "# Close the first program, and create another one that opens and reads the pkl file.\n",
    "# Combine the final variable from the last program with a next text variable from this program.  \n",
    "\n",
    "# EOF: 04_EnvironmentsAndDeployment.py"
   ]
  },
  {
   "cell_type": "markdown",
   "metadata": {},
   "source": [
    "<p><img style=\"float: left; margin: 0px 15px 15px 0px;\" src=\"../graphics/cortanalogo.png\"><b>4.3 Docker</b></p>\n",
    "\n",
    "Two other abstraction levels are useful to think about. You're probably familiar with Virtual Machines - which uses software to emulate hardware. This lets you install a complete new \"computer\" in a computer's OS. One level up from that abstraction layer is a *Container*. A Container goes slightly further by including a very small kernel of an operating system (most often Linux) to operate a runtime - like R. This provides an even more consistent environment for your application, since it can also include settings and programs above the R level.\n",
    "\n",
    "Of course, there's a lot more to these topics - read the references below to learn more."
   ]
  },
  {
   "cell_type": "markdown",
   "metadata": {},
   "source": [
    "<p><img style=\"float: left; margin: 0px 15px 15px 0px;\" src=\"../graphics/thinking.jpg\"><b>For Further Study</b></p>\n",
    "\n",
    "- Description and example of working with R and Docker: http://blog.revolutionanalytics.com/2018/03/r-and-docker.html\n"
   ]
  },
  {
   "cell_type": "markdown",
   "metadata": {},
   "source": [
    "\n",
    "Congratulations! You have completed this introductory course on working with data using R. As you can see, there is a great deal more to learn. The best way to do that is use what you have learned here and apply it to a real-world scenario. Try out your new skills and use the references and the materials in the `./assets` folder in your journey."
   ]
  }
 ],
 "metadata": {
  "kernelspec": {
   "display_name": "R",
   "language": "R",
   "name": "ir"
  },
  "language_info": {
   "codemirror_mode": "r",
   "file_extension": ".r",
   "mimetype": "text/x-r-source",
   "name": "R",
   "pygments_lexer": "r",
   "version": "3.4.3"
  }
 },
 "nbformat": 4,
 "nbformat_minor": 2
}
