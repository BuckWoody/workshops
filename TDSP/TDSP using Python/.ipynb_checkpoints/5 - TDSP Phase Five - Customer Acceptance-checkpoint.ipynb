{
 "cells": [
  {
   "cell_type": "markdown",
   "metadata": {
    "collapsed": true
   },
   "source": [
    "## Phase Five - Customer Acceptance\n",
    "\n",
    "Read the [Documentation Reference here](TODO)\n",
    "\n",
    "**Goals**\n",
    " - TODO\n",
    "\n",
    "**How to do it**\n",
    "TODO\n",
    "\n",
    "### Lab 5.0 - Testing and Handoff\n",
    "Instructions:\n",
    " 1. TODO\n",
    "\n",
    "#### Lab verification\n",
    " ■ TODO\n",
    " \n",
    " ### Lab 5.1 - Model retraining\n",
    "Instructions:\n",
    " 1. TODO\n",
    "\n",
    "#### Lab verification\n",
    " ■ TODO"
   ]
  },
  {
   "cell_type": "code",
   "execution_count": null,
   "metadata": {},
   "outputs": [],
   "source": []
  }
 ],
 "metadata": {
  "kernelspec": {
   "display_name": "Python 3.6",
   "language": "python",
   "name": "python36"
  },
  "language_info": {
   "codemirror_mode": {
    "name": "ipython",
    "version": 3
   },
   "file_extension": ".py",
   "mimetype": "text/x-python",
   "name": "python",
   "nbconvert_exporter": "python",
   "pygments_lexer": "ipython3",
   "version": "3.6.3"
  }
 },
 "nbformat": 4,
 "nbformat_minor": 2
}
