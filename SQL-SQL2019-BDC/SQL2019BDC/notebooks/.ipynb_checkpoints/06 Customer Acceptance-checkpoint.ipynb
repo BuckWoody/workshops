{
 "cells": [
  {
   "cell_type": "markdown",
   "metadata": {
    "collapsed": true
   },
   "source": [
    "![](../graphics/solutions-microsoft-logo-small.png)\n",
    "\n",
    "# Data Science Projects with SQL Server Machine Learning Services\n",
    "\n",
    "## 06 Customer Acceptance and Model Retraining\n",
    "\n",
    "<p style=\"border-bottom: 1px solid lightgrey;\"></p> \n",
    "<dl>\n",
    "  <dt>Course Outline</dt>\n",
    "  <dt>1 Overview and Course Setup</dt>\n",
    "  <dt>2 Business Understanding</dt>\n",
    "  <dt>3 Data Acquisition and Understanding</dt>\n",
    "  <dt>4 Modeling</dt>\n",
    "  <dt>5 Deployment</i></dt>\n",
    "  <dt>6 Customer Acceptance and Model Retraining <i>(This section)</dt>\n",
    "        <dd>6.1 Call the Prediction from a Stored Procedure</dd>\n",
    "        <dd>6.2 Close out the project</dd>\n",
    "<dl>\n",
    "<p style=\"border-bottom: 1px solid lightgrey;\"></p> \n"
   ]
  },
  {
   "cell_type": "markdown",
   "metadata": {},
   "source": [
    "The final phase involves testing the model predictions on real-world queries to ensure that it meets all requirements. In this phase you will also document the project so that all parameters are well-known. Finally, a mechanism is evaluated to re-train the model. You will not cover the retraining portion of the process in this course."
   ]
  },
  {
   "cell_type": "markdown",
   "metadata": {},
   "source": [
    "### Goals for Customer Acceptance\n",
    "\n",
    "- Confirm that the pipeline, the model, and their deployment in a production environment satisfy the customer's objectives\n",
    "- Create a project close out document\n",
    "- Create a path for retraining your model\n",
    "\n",
    "### How to do it\n",
    "\n",
    "- System validation: Confirm that the deployed model and pipeline meet the customer's needs.\n",
    "- Project hand-off: Hand the project off to the entity that's going to run the system in production\n",
    "- Develop a \"ground truth\" mechanism and feed the new labels (if applicable) back into the retraining API\n"
   ]
  },
  {
   "cell_type": "markdown",
   "metadata": {},
   "source": [
    "<p><img style=\"float: left; margin: 0px 15px 15px 0px;\" src=\"../graphics/cortanalogo.png\"><b>6.1 Test the predictions with a Stored Procedure</b></p>\n",
    "\n",
    "Using the binary Model you created, you can now allow users to make calls to the system for predictions. In the code that the application runs, you need to send along the Features the model expects, and accept the returned value(s) as the prediction. Alternately, you could store the results in a table or other SQL Server object. "
   ]
  },
  {
   "cell_type": "markdown",
   "metadata": {},
   "source": [
    "<p><img style=\"float: left; margin: 0px 15px 15px 0px;\" src=\"../graphics/aml-logo.png\"><b>Activity: Make a call with features sent to the Model's Stored Procedure</b></p>\n",
    "\n",
    "- Connect to SQL Server with a SQL query tool, and run the following code that sends five Features to the Model:\n"
   ]
  },
  {
   "cell_type": "markdown",
   "metadata": {},
   "source": [
    "<pre>\n",
    "/* Execute the predict_rentals stored proc and pass the model name \n",
    "and a query string with a set of features we want to use to predict \n",
    "the rental count */\n",
    "\n",
    "EXEC dbo.predict_rentalcount_new @model = 'rxDTree',\n",
    "       @q ='SELECT CONVERT(INT, 3) AS Month, CONVERT(INT, 24) AS Day, CONVERT(INT, 4) AS WeekDay, CONVERT(INT, 1) AS Snow, CONVERT(INT, 1) AS Holiday';\n",
    "GO\n",
    "</pre>"
   ]
  },
  {
   "cell_type": "markdown",
   "metadata": {},
   "source": [
    "You'll get back a prediction showing how many rentals are expected."
   ]
  },
  {
   "cell_type": "markdown",
   "metadata": {},
   "source": [
    "<p><img style=\"float: left; margin: 0px 15px 15px 0px;\" src=\"../graphics/cortanalogo.png\"><b>6.2 Close out the Project</b></p>\n",
    "\n",
    "To complete the project, document the steps, findings, and results. In the activity that follows, you'll find a complete document reference for this process.\n"
   ]
  },
  {
   "cell_type": "markdown",
   "metadata": {},
   "source": [
    "<p><img style=\"float: left; margin: 0px 15px 15px 0px;\" src=\"../graphics/aml-logo.png\"><b>Activity: Create a Project Closeout Document</b></p>\n",
    "\n",
    "- Open the `../assets/ProjectCloseout.md` file and fill in the fields from your project.\n"
   ]
  },
  {
   "cell_type": "markdown",
   "metadata": {},
   "source": [
    "<p><img style=\"float: left; margin: 0px 15px 15px 0px;\" src=\"../graphics/thinking.jpg\"><b>For Further Study</b></p>\n",
    " - Learn more about closing out a Data Science project here: https://docs.microsoft.com/en-us/azure/machine-learning/team-data-science-process/lifecycle-acceptance "
   ]
  },
  {
   "cell_type": "markdown",
   "metadata": {},
   "source": [
    "Congratulations! You have completed this introductory course. As you can see, there is a great deal more to learn. The best way to do that is use what you have learned here and apply it to a real-world scenario. Try out your new skills and use the references and the materials in the ./assets folder in your journey."
   ]
  }
 ],
 "metadata": {
  "kernelspec": {
   "display_name": "R",
   "language": "R",
   "name": "ir"
  },
  "language_info": {
   "codemirror_mode": "r",
   "file_extension": ".r",
   "mimetype": "text/x-r-source",
   "name": "R",
   "pygments_lexer": "r",
   "version": "3.4.3"
  }
 },
 "nbformat": 4,
 "nbformat_minor": 2
}
