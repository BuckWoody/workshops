{
 "cells": [
  {
   "cell_type": "markdown",
   "metadata": {
    "collapsed": true
   },
   "source": [
    "![](../graphics/solutions-microsoft-logo-small.png)\n",
    "\n",
    "# Python for Data Professionals\n",
    "\n",
    "## 04 Environments and Deployment\n",
    "\n",
    "<p style=\"border-bottom: 1px solid lightgrey;\"></p>\n",
    "\n",
    "<dl>\n",
    "  <dt>Course Outline</dt>\n",
    "  <dt>1 - Overview and Course Setup</dt>\n",
    "  <dt>2 - Programming Basics</dt>\n",
    "  <dt>3 Working with Data</dt>\n",
    "  <dt>4 Deployment and Environments <i>(This section)</i></dt>\n",
    "    <dd>4.1 Conda</dd>\n",
    "    <dd>4.2 Pickling</dd>\n",
    "<dl>\n",
    "\n",
    "<p style=\"border-bottom: 1px solid lightgrey;\"></p>"
   ]
  },
  {
   "cell_type": "markdown",
   "metadata": {},
   "source": [
    "The main installation of Python - sometimes called \"Core\" or \"base\" - has a set of parameters it works with. Since it runs on many operating systems, these variables are set and altered in different ways. Here are the primary environment settings on the standard installation of Python:\n",
    "\n",
    "- PYTHONPATH - Sets the location for the Python interpreter to locate the module files imported into a program.\n",
    "- PYTHONHOME - The alternative module search path. \n",
    "- PYTHONSTARTUP - The initialization file path ( `.pythonrc.py` ) containing the Python source code. It is executed every time you start the interpreter.\n",
    "- PYTHONCASEOK - For the Windows OS, find the first case-insensitive match in an \"import\" statement.\n",
    "\n",
    "You can show all of the variables by importing the base configuration system library, and then calling a print statement:\n",
    "\n",
    "`import sysconfig`\n",
    "\n",
    "`sysconfig.get_config_vars()`\n",
    "\n",
    "If you want to see just one variable, remember, it's just an array:\n",
    "\n",
    "`sysconfig.get_config_var('LIBDIR')`"
   ]
  },
  {
   "cell_type": "code",
   "execution_count": 1,
   "metadata": {},
   "outputs": [],
   "source": [
    "# Try it:"
   ]
  },
  {
   "cell_type": "markdown",
   "metadata": {},
   "source": [
    "<p><img style=\"float: left; margin: 0px 15px 15px 0px;\" src=\"../graphics/cortanalogo.png\"><b>4.1 pip and Conda</b></p>\n",
    "\n",
    "To install new packages, you can build the source code manually, but that's not the way it's most often done. Typically you use a \"package manager\", and the most popular is \"pip\". The pip program installs and configures most of the libraries you will need for the base installation of Python.\n",
    "\n",
    "You probably already have the pip program. However, to install pip, you can use the [cURL](https://curl.haxx.se/download.html) program to get it:\n",
    "\n",
    "`curl https://bootstrap.pypa.io/get-pip.py -o get-pip.py`\n",
    "\n",
    "Then use Python to run the script to install it:\n",
    "\n",
    "`python get-pip.py`\n",
    "\n",
    "From there, you can query the packages you have with this command, from the command-line in your operating system:\n",
    "\n",
    "`pip list`\n",
    "\n",
    "You can install a package using this command:\n",
    "\n",
    "`pip install SomePackage            # latest version`\n",
    "\n",
    "`pip install SomePackage==1.0.4     # specific version`\n",
    "\n",
    "`pip install 'SomePackage>=1.0.4'     # minimum version`\n",
    "\n",
    "And you can remove a package with this command:\n",
    "\n",
    "`pip uninstall SomePackage`\n",
    "\n",
    "There is a lot more that you can do with pip, and you can find out the list here:\n",
    "\n",
    "`pip`\n",
    "\n",
    "A more robust package manager, which even installs a distribution of Python for you along with other tools, is [Conda](https://conda.io/docs/user-guide/getting-started.html). For this course, you have installed Python using Conda, which not only has a package manager, but also isolates environments for you. This means that you can create a \"boundary\" of variables, package directories, and more around a name you specify. You can then switch to that environment to create your code, and that code will always have a consistent set of variables and packages.\n",
    "\n",
    "To create a Conda environment, issue the following command:\n",
    "\n",
    "`conda create --name`\n",
    "\n",
    "For instance, this command creates a new environment called \"bucktest\" and installs the biology package called biopython:\n",
    "\n",
    "`conda create --name bucktest biopython`\n",
    "\n",
    "To see the environments, issue the following command:\n",
    "\n",
    "`conda info --envs`\n",
    "\n",
    "The one with the asterisk (*) is the one you are using now. To switch to another environment, issue the following command:\n",
    "\n",
    "`activate bucktest` (In Windows)\n",
    "\n",
    "`source activate bucktest` (Mac and Linux)\n",
    "\n",
    "And to see information about that environment, issue the following command:\n",
    "\n",
    "`conda list`\n",
    "\n",
    "or just `conda` to find out everything you can do with Conda.\n",
    "\n",
    "To install packages in that environment, use this command:\n",
    "\n",
    "`conda install biopython`"
   ]
  },
  {
   "cell_type": "markdown",
   "metadata": {},
   "source": [
    "<p><img style=\"float: left; margin: 0px 15px 15px 0px;\" src=\"../graphics/aml-logo.png\"><b> Activity - pip and Conda</b></p>\n",
    "\n",
    "Now open the `/code/04_EnvironmentsAndDeployment.py` file and follow the instructions you see there for 4.1."
   ]
  },
  {
   "cell_type": "code",
   "execution_count": 2,
   "metadata": {},
   "outputs": [],
   "source": [
    "# 04_EnvironmentsAndDeployments.py\n",
    "# Purpose: Environmental settings and configurations\n",
    "# Author: Buck Woody\n",
    "# Credits and Sources: Inline\n",
    "# Last Updated: 07 July 2018\n",
    "\n",
    "# <TODO> - 4.1 Show the main environment variables in the current Python environment. Which directory has the libraries?\n",
    "\n",
    "# <TODO> - What else can you find in the sysconfig library? How would you find that out?\n",
    "\n",
    "# <TODO> - Using conda commands, what libraries are currently loaded? \n",
    "# How would you install a new one? \n",
    "# What environment are you using now?"
   ]
  },
  {
   "cell_type": "markdown",
   "metadata": {},
   "source": [
    "<p><img style=\"float: left; margin: 0px 15px 15px 0px;\" src=\"../graphics/cortanalogo.png\"><b>4.2 Pickling</b></p>\n",
    "\n",
    "\"Pickling\" in Python means to serialize a Python object. Perhaps that isn't very helpful - what it really means is to take the output of whatever you did in Python and make it available again in another environment or program. It's a way of saving the \"state\" of a program so that it can be transferred and then re-loaded.\n",
    "\n",
    "It's best illustrated with some code:\n",
    "\n",
    "`import pickle`\n",
    "\n",
    "`a = ['1','2','3']`\n",
    "\n",
    "`PickleFileName = \"picklefile\"`\n",
    "\n",
    "`FileObject = open(PickleFileName,'wb')`\n",
    "\n",
    "`pickle.dump(a,FileObject)`\n",
    "\n",
    "`fileObject.close()`\n",
    "\n",
    "Now you can copy that file to a new computer, open Python, and work with it again as if you ran it there:\n",
    "\n",
    "`import pickle`\n",
    "\n",
    "`PickleFileName = \"picklefile\"`\n",
    "\n",
    "`FileObject = open(PickleFileName,'r') ` \n",
    "\n",
    "`b = pickle.load(FileObject) ` \n",
    "\n",
    "`b`\n",
    "\n",
    "And now *a* equals *b*. Of course, your program would be much longer, most often a series of steps, which might for instance do a Machine Learning prediction. \n",
    "\n",
    "You can read a lot more about pickling here: https://wiki.python.org/moin/UsingPickle"
   ]
  },
  {
   "cell_type": "markdown",
   "metadata": {},
   "source": [
    "<p><img style=\"float: left; margin: 0px 15px 15px 0px;\" src=\"../graphics/aml-logo.png\"><b> Activity - Pickle</b></p>\n",
    "\n",
    "Now open the `/code/04_EnvironmentsAndDeployment.py` file and follow the instructions you see there for step 4.2."
   ]
  },
  {
   "cell_type": "code",
   "execution_count": 4,
   "metadata": {},
   "outputs": [],
   "source": [
    "# <TODO> - 4.2 Create a program that has three text variables. Combine these three into another varaible. \n",
    "# Load the pickle library and save the results of the first program as a pkl file.\n",
    "# Close the first program, and create another one that opens and reads the pkl file.\n",
    "# Combine the final variable from the last program with a next text variable from this program.  \n",
    "\n",
    "# EOF: 04_EnvironmentsAndDeployment.py"
   ]
  },
  {
   "cell_type": "markdown",
   "metadata": {},
   "source": [
    "<p><img style=\"float: left; margin: 0px 15px 15px 0px;\" src=\"../graphics/cortanalogo.png\"><b>4.3 Docker and Flask</b></p>\n",
    "\n",
    "Two other abstraction levels are useful to think about. You're probably familiar with Virtual Machines - which uses software to emulate hardware. This lets you install a complete new \"computer\" in a computer's OS. One level up from that abstraction layer is a *Container*. A Container goes slightly further by including a very small kernel of an operating system (most often Linux) to operate a runtime - like Python. This provides an even more consistent environment for your application, since it can also include settings and programs above the Python level. \n",
    "\n",
    "The *Flask* micro-framework for Python isn't technically an abstraction layer, it has more to do with serving your application up to a Web call. You'll often see Docker and Flask used together, so you'll cover it here for completeness. Once again, seeing some code is useful to understand - this example comes from the documentation site:\n",
    "\n",
    "<pre>\n",
    "\n",
    "from flask import Flask\n",
    "app = Flask(__name__)\n",
    "\n",
    "@app.route('/')\n",
    "def hello_world():\n",
    "    return 'Hello, World!'\n",
    "\n",
    "</pre>\n",
    "\n",
    "You can probably follow the layout of this code, but there are some specifics here. First, the code imported Flask itself. Next, the code creates an instance of a Flask app, called \"app\" in this case. From there, the route was set to the base URL call - just as in the main part of a web page. And finally, a simple function returns the words \"Hello World!\".\n",
    "\n",
    "So far, nothing is happening - the code is just on disk. However, you can \"deploy\" the code on a system that is running with these commands (in Linux):\n",
    "\n",
    "<pre>\n",
    "$ export FLASK_APP=hello.py\n",
    "$ flask run\n",
    " * Running on http://127.0.0.1:5000/\n",
    "</pre>\n",
    "\n",
    "OK...so what? Well, in this case, you could open a Web Browser on that system and type in that URL - and you'll see \"Hello World!\" pop up on the screen. Of course, real applications are much more complicated, can take POST and GET operations, and much more. But this is a very convenient way to serve up your Python application without having to tell your users to install and run Python.\n",
    "\n",
    "Of course, there's a lot more to both of these topics - read the references below to learn more."
   ]
  },
  {
   "cell_type": "markdown",
   "metadata": {},
   "source": [
    "<p><img style=\"float: left; margin: 0px 15px 15px 0px;\" src=\"../graphics/thinking.jpg\"><b>For Further Study</b></p>\n",
    "\n",
    "- More on Docker: https://www.fullstackpython.com/docker.html\n",
    "- More on Flask: http://flask.pocoo.org/\n",
    "- Creating a simple Flask application: http://containertutorials.com/docker-compose/flask-simple-app.html \n",
    "\n",
    "Congratulations! You now know the basics or working with Python and Data. As you can see, there's a lot more to learn - so use your new knowledge to expand on what you have learned. "
   ]
  }
 ],
 "metadata": {
  "kernelspec": {
   "display_name": "Python 3",
   "language": "python",
   "name": "python3"
  },
  "language_info": {
   "codemirror_mode": {
    "name": "ipython",
    "version": 3
   },
   "file_extension": ".py",
   "mimetype": "text/x-python",
   "name": "python",
   "nbconvert_exporter": "python",
   "pygments_lexer": "ipython3",
   "version": "3.6.5"
  }
 },
 "nbformat": 4,
 "nbformat_minor": 2
}
