{
 "cells": [
  {
   "cell_type": "markdown",
   "metadata": {
    "collapsed": true
   },
   "source": [
    "![](../graphics/solutions-microsoft-logo-small.png)\n",
    "\n",
    "# R for Data Professionals\n",
    "\n",
    "## 01 Overview and Setup\n",
    "\n",
    "In this course you'll cover the basics of the R language and environment from a Data Professional's perspective. While you will learn the basics of R itself, you'll quickly cover topics that have a lot more depth available. In each section you'll get more references to go deeper, which you should follow up on. Also watch for links within the text - click on each one to explore that topic.\n",
    "\n",
    "The code sections of this course are as much a part of your learning as these overview files. You'll get not only assignments but explanations in the R code in those exercises.\n",
    "\n",
    "Make sure you check out the **00 Pre-Requisites** page before you start. You'll need all of the items loaded there before you can proceed with the course.\n",
    "\n",
    "You'll cover these topics in the course:\n",
    "\n",
    "<p style=\"border-bottom: 1px solid lightgrey;\"></p>\n",
    "\n",
    "<dl>\n",
    "  <dt>Course Outline</dt>\n",
    "  <dt>1 - Overview and Course Setup <i>(This section)</i></dt>\n",
    "  <dt>2 - Programming Basics</dt>\n",
    "  <dt>3 Working with Data</dt>\n",
    "  <dt>4 Deployment and Environments</dt>\n",
    "<dl>\n",
    "\n",
    "<p style=\"border-bottom: 1px solid lightgrey;\"></p>"
   ]
  },
  {
   "cell_type": "markdown",
   "metadata": {},
   "source": [
    "<h2><img style=\"float: left; margin: 0px 15px 15px 0px;\" src=\"../graphics/cortanalogo.png\"> Overview</h2>\n",
    "\n",
    "There are many \"distributions\" of R. The most common installation is from the CRAN - the Comprehensive R Network. The distribution you will use in this course is installed when you install SQL Server 2016 or higher with ML Services (or R Services in the earlier versions) is called Microsoft R Open (MRO), and its base code is from the CRAN distribution. MRO replaces a couple of libraries (more about those later) and adds a few to increase the speed, capabilities and features of standard CRAN R. \n",
    "\n",
    "You have a few ways of working with R:\n",
    "\n",
    "- The Interactive Interpreter (Type `R` if it is in your path)\n",
    "- Writing code and running it in some graphical environment (Such as VSCode, Visual Studio, RGUI, R-Studio, etc.)\n",
    "- Calling an `.R` script file from the `R` command \n",
    "\n",
    "When you're in command-mode, you'll see that the code works more like a scripting language. Programming-mode looks like a standard programming language environment - you'll normally use that within an Integrated Programming Environment (IDE). In any case, R is an \"interpreted\" language, meaning you write code that R then runs through a series of steps before it returns a result."
   ]
  },
  {
   "cell_type": "markdown",
   "metadata": {},
   "source": [
    "<p><img style=\"float: left; margin: 0px 15px 15px 0px;\" src=\"../graphics/aml-logo.png\"><b>Activity: Verify Your Installation and Configure R</b></p>\n",
    "\n",
    "Open the **01_OverviewAndCourseSetup.R** file and run the code you see there. The exercises will be marked out using comments: \n",
    "\n",
    "`<TODO> - 01`"
   ]
  },
  {
   "cell_type": "code",
   "execution_count": 2,
   "metadata": {},
   "outputs": [
    {
     "name": "stdout",
     "output_type": "stream",
     "text": [
      "               _                           \n",
      "platform       x86_64-apple-darwin13.4.0   \n",
      "arch           x86_64                      \n",
      "os             darwin13.4.0                \n",
      "system         x86_64, darwin13.4.0        \n",
      "status                                     \n",
      "major          3                           \n",
      "minor          4.3                         \n",
      "year           2017                        \n",
      "month          11                          \n",
      "day            30                          \n",
      "svn rev        73796                       \n",
      "language       R                           \n",
      "version.string R version 3.4.3 (2017-11-30)\n",
      "nickname       Kite-Eating Tree            \n"
     ]
    }
   ],
   "source": [
    "# 01_OverviewAndCourseSetup.R\n",
    "# Purpose: Initial Course Setup and displaying versions\n",
    "# Author: Buck Woody\n",
    "# Credits and Sources: Inline\n",
    "# Last Updated: 27 June 2018\n",
    "\n",
    "# Check the R Version and Information\n",
    "# <TODO> - Fix this code so that it runs\n",
    "\n",
    "print(version)\n",
    "\n",
    "# EOF: 01_OverviewAndCourseSetup.R"
   ]
  },
  {
   "cell_type": "markdown",
   "metadata": {},
   "source": [
    "<p><img style=\"float: left; margin: 0px 15px 15px 0px;\" src=\"../graphics/thinking.jpg\"><b>For Further Study</b></p>\n",
    "\n",
    "- The Official R Documentation: https://mran.microsoft.com/rro\n",
    "- The R tutorial (current as of the publication of this course) is in your ./assets folder as a file called `R-intro.pdf`.\n",
    "\n",
    "Next, Continue to *02 Programming Basics*"
   ]
  },
  {
   "cell_type": "code",
   "execution_count": null,
   "metadata": {},
   "outputs": [],
   "source": []
  }
 ],
 "metadata": {
  "kernelspec": {
   "display_name": "R",
   "language": "R",
   "name": "ir"
  },
  "language_info": {
   "codemirror_mode": "r",
   "file_extension": ".r",
   "mimetype": "text/x-r-source",
   "name": "R",
   "pygments_lexer": "r",
   "version": "3.4.3"
  }
 },
 "nbformat": 4,
 "nbformat_minor": 2
}
