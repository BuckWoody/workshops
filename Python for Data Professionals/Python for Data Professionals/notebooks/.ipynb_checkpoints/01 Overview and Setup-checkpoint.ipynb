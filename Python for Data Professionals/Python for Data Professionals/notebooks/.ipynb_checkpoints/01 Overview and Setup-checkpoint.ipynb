{
 "cells": [
  {
   "cell_type": "markdown",
   "metadata": {
    "collapsed": true
   },
   "source": [
    "![](../graphics/solutions-microsoft-logo-small.png)\n",
    "\n",
    "# Python for Data Professionals\n",
    "\n",
    "## 01 Overview and Setup\n",
    "\n",
    "In this course you'll cover the basics of the Python language and environment from a Data Professional's perspective. While you will learn Python, you'll quickly cover topics that have a lot more depth available. In each section you'll get more references to go deeper, which you should follow up on. Also watch for links within the text - click on each one to explore that topic.\n",
    "\n",
    "Make sure you check out the **00 Pre-Requisites** page before you start. You'll need all of the items loaded there before you can proceed with the course.\n",
    "\n",
    "You'll cover these topics in the course:\n",
    "\n",
    "<p style=\"border-bottom: 1px solid lightgrey;\"></p>\n",
    "\n",
    "<dl>\n",
    "  <dt>Course Outline</dt>\n",
    "  <dt>1 - Overview and Course Setup <i>(This section)</i></dt>\n",
    "  <dt>2 - Programming Basics</dt>\n",
    "  <dt>3 Working with Data</dt>\n",
    "  <dt>4 Deployment and Environments</dt>\n",
    "<dl>\n",
    "\n",
    "<p style=\"border-bottom: 1px solid lightgrey;\"></p>"
   ]
  },
  {
   "cell_type": "markdown",
   "metadata": {},
   "source": [
    "<h2><img style=\"float: left; margin: 0px 15px 15px 0px;\" src=\"../graphics/cortanalogo.png\"> Overview</h2>\n",
    "\n",
    "There are two main versions of Python - 2 and 3. So many programs were written for version 2 that it is still around, and version 3 was such an upgrade that programs for 2 don't always run in 3 and visa-versa. For this course we'll do everything in version 3 - it's becoming the accepted standard for data professionals.\n",
    "\n",
    "You have a few ways of working with Python:\n",
    "\n",
    "- The Interactive Interpreter (Type `python` and the version number if it is in your path)\n",
    "- Writing code and running it in some graphical environment (Such as VSCode, Visual Studio, Spyder, PyCharm, IDLE, etc.)\n",
    "- Calling a `.py` script file from the `python` command \n",
    "\n",
    "When you're in command-mode, you'll see that the code looks more like a scripting language, meaning that some parenthesis around functions might not be there. Programming-mode looks like a standard programming language environment - you'll normally use that within an Integrated Programming Environment (IDE)."
   ]
  },
  {
   "cell_type": "markdown",
   "metadata": {},
   "source": [
    "<p><img style=\"float: left; margin: 0px 15px 15px 0px;\" src=\"../graphics/aml-logo.png\"><b>Activity: Verify Your Installation and Configure Python</b></p>\n",
    "\n",
    "Open the **01_OverviewAndCourseSetup.py** file and run the code you see there. The exercises will be marked out using comments: \n",
    "\n",
    "<pre>\n",
    "# TODO - Section Number\n",
    "</pre>"
   ]
  },
  {
   "cell_type": "code",
   "execution_count": null,
   "metadata": {},
   "outputs": [],
   "source": [
    "# 01_OverviewAndCourseSetup.py\n",
    "# Purpose: Initial Course Setup and displaying versions\n",
    "# Author: Buck Woody\n",
    "# Credits and Sources: Inline\n",
    "# Last Updated: 27 June 2018\n",
    "\n",
    "# Check the Python Version and Information\n",
    "import platform\n",
    "python_version=platform.python_version()\n",
    "print(python_version)\n",
    "\n",
    "# <TODO> - Fix this code so that it runs\n",
    "\n",
    "print \"The Python Version is: \" python_version\n",
    "\n",
    "# <TODO> - Using \"platform\", what other information can you derive about this system?\n",
    "\n",
    "# EOF: 01_OverviewAndCourseSetup.py"
   ]
  },
  {
   "cell_type": "markdown",
   "metadata": {},
   "source": [
    "<p><img style=\"float: left; margin: 0px 15px 15px 0px;\" src=\"../graphics/thinking.jpg\"><b>For Further Study</b></p>\n",
    "\n",
    "- Version differences: https://wiki.python.org/moin/Python2orPython3 \n",
    "- Development Environments: IDLE, tk, VSCode, PyCharm, Jupyter Notebooks, Documentation, Training Resources: https://www.python.org/doc/\n",
    "- and https://docs.python.org/3/tutorial/index.html \n",
    "- The Official Python Documentation Course: https://docs.python.org/3/tutorial/index.html\n",
    "\n",
    "Next, Continue to *02 Programming Basics*"
   ]
  },
  {
   "cell_type": "code",
   "execution_count": null,
   "metadata": {},
   "outputs": [],
   "source": []
  }
 ],
 "metadata": {
  "kernelspec": {
   "display_name": "Python 3",
   "language": "python",
   "name": "python3"
  },
  "language_info": {
   "codemirror_mode": {
    "name": "ipython",
    "version": 3
   },
   "file_extension": ".py",
   "mimetype": "text/x-python",
   "name": "python",
   "nbconvert_exporter": "python",
   "pygments_lexer": "ipython3",
   "version": "3.6.5"
  }
 },
 "nbformat": 4,
 "nbformat_minor": 2
}
