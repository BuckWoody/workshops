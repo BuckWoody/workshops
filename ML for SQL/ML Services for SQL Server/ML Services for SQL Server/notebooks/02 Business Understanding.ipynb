{
 "cells": [
  {
   "cell_type": "markdown",
   "metadata": {
    "collapsed": true
   },
   "source": [
    "![](../graphics/solutions-microsoft-logo-small.png)\n",
    "\n",
    "# Data Science Projects with SQL Server Machine Learning Services\n",
    "\n",
    "## 02 Business Understanding\n",
    "\n",
    "<p style=\"border-bottom: 1px solid lightgrey;\"></p> \n",
    "<dl>\n",
    "  <dt>Course Outline</dt>\n",
    "  <dt>1 Overview and Course Setup</dt>\n",
    "  <dt>2 Business Understanding <i>(This section)</i></dt>\n",
    "        <dd>2.1 Setting up the Data Science Project</dd>\n",
    "        <dd>2.2 Find the Question</dd>\n",
    "        <dd>2.3 Document the Data</dd>\n",
    "  <dt>3 Data Acquisition and Understanding</dt>\n",
    "  <dt>4 Modeling</dt>\n",
    "  <dt>5 Deployment</dt>\n",
    "  <dt>6 Customer Acceptance and Model Retraining</dt>\n",
    "<dl>\n",
    "<p style=\"border-bottom: 1px solid lightgrey;\"></p> \n"
   ]
  },
  {
   "cell_type": "markdown",
   "metadata": {},
   "source": [
    "From here on out, you'll follow the Data Science Process for teams, and implement each step in an actual implementation. You'll begin with a discovery session with the client, to understand what they are looking for and to determine the best way to solve it.\n",
    "\n",
    "In the Business Understanding Phase the team determines the prediction or categorical work your organization wants to create. You'll also set up your project planning documents, locate your initial data source locations, and set up the environment you will use to create and operationalize your models. This phase involves a great deal of coordination among the team and the broader organization."
   ]
  },
  {
   "cell_type": "markdown",
   "metadata": {},
   "source": [
    "### Goals for Business Understanding\n",
    "\n",
    "- Specify the key variables that are to serve as the model targets and whose related metrics are used determine the success of the project.\n",
    "- Identify the relevant data sources that the business has access to or needs to obtain.\n",
    "\n",
    "### How to do it (There are two main tasks addressed in this stage)\n",
    "\n",
    "- Define objectives: Work with your customer and other stakeholders to understand and identify the business problems. Formulate questions that define the business goals that the data science techniques can target.\n",
    "- Identify data sources: Find the relevant data that helps you answer the questions that define the objectives of the project."
   ]
  },
  {
   "cell_type": "markdown",
   "metadata": {},
   "source": [
    "<p><img style=\"float: left; margin: 0px 15px 15px 0px;\" src=\"../graphics/cortanalogo.png\"><b>2.1 Setting up the Data Science Project</b></p>\n",
    "\n",
    "Begin by assembling your team. It should include a Data Scientist, a Data Engineer (data professional with Data Science team experience), a business or organizational representative, and the owner of the project. If the project is going to go forward, set up a schedule for the work that follows.  "
   ]
  },
  {
   "cell_type": "markdown",
   "metadata": {},
   "source": [
    "<p><img style=\"float: left; margin: 0px 15px 15px 0px;\" src=\"../graphics/cortanalogo.png\"><b>2.2 Find the Question</b></p>\n",
    "\n",
    "Remember that not every question can be answered by Machine Learning. Some questions can be solved with simple Linear Regression, Business Intelligence, or even a query in a report. Check the last module for the types of scenarios where Machine Learning works well. \n",
    "\n",
    "In this case, the Contoso organization has presented the following scenario:"
   ]
  },
  {
   "cell_type": "markdown",
   "metadata": {},
   "source": [
    "<p><img style=\"float: left; margin: 0px 15px 15px 0px;\" src=\"../graphics/contosologo.png\" width=\"50\"><i>\n",
    "We own and operate a rental ski business in the Pacific Northwest of the United States. Skiing revenue is subject to the weather, mountain passes, road conditions and economic factors.\n",
    "\n",
    "We need to be able to predict demand for our services. Transferring appropriate stock, asking staff to travel in, and renting the facilities is very expensive, and the if the customers don't arrive in sufficient numbers, we lose significant profit each day.\n",
    "\n",
    "We have data from previous years on attendance and other factors, and we would like to be able to predict demand down to the specific rentals. This will allow us to maximize our profit and ensure our staff and equipment are engaged.\n",
    "</i></p>\n",
    "\n",
    "\n",
    "- What question does Contoso want answered? \n",
    "- Is it a prediction, a classification, or a clustering exercise? \n",
    "- What are some candidate algorithms that could be used to create a Model?"
   ]
  },
  {
   "cell_type": "markdown",
   "metadata": {},
   "source": [
    "<p><img style=\"float: left; margin: 0px 15px 15px 0px;\" src=\"../graphics/cortanalogo.png\"><b>2.3 Document the Data</b></p>\n",
    "\n",
    "Getting an accurate prediction involves having solid training data that is as predictive as possible. In most cases, this involves a preliminary investigation by the Data Scientist to determine the Features and Labels that would best fit a prediction or classification. This data may be on hand already, or you may need to acquire it. In some cases, the data does not exist that would create a good model, and in that case a set of proxy data may be used, or the collection of that data started and the project delayed until a representative dataset is available.\n",
    "\n",
    "In the case of this course, the data is wholly contained within the sample database. However, you might think about other data sources that could be useful."
   ]
  },
  {
   "cell_type": "markdown",
   "metadata": {},
   "source": [
    "<p><img style=\"float: left; margin: 0px 15px 15px 0px;\" src=\"../graphics/aml-logo.png\"><b>Activity: Review Project Documents, Determine specific Questions, Document the Data Source</b></p>\n",
    "\n",
    "- Open  `./assets/Advanced Analytics Microsoft Project Plan.xls` (if possible) and review its structure.\n",
    "- Fill out the project Charter Document: `./assets/Charter.md`\n",
    "- Identify Data Sources: `./assets/DataDefintion.md`\n",
    "- Create a Data Dictionary: `./assets/DataDictionary.md`"
   ]
  },
  {
   "cell_type": "markdown",
   "metadata": {},
   "source": [
    "<p><img style=\"float: left; margin: 0px 15px 15px 0px;\" src=\"../graphics/thinking.jpg\"><b>For Further Study</b></p>\n",
    "\n",
    "- Business Understanding Reference - https://docs.microsoft.com/en-us/azure/machine-learning/team-data-science-process/lifecycle-business-understanding\n",
    "\n",
    "Next, Continue to *03 Data Acquisition and Understanding*"
   ]
  },
  {
   "cell_type": "code",
   "execution_count": null,
   "metadata": {},
   "outputs": [],
   "source": []
  }
 ],
 "metadata": {
  "kernelspec": {
   "display_name": "R",
   "language": "R",
   "name": "ir"
  },
  "language_info": {
   "codemirror_mode": "r",
   "file_extension": ".r",
   "mimetype": "text/x-r-source",
   "name": "R",
   "pygments_lexer": "r",
   "version": "3.4.3"
  }
 },
 "nbformat": 4,
 "nbformat_minor": 2
}
