{
 "cells": [
  {
   "cell_type": "markdown",
   "metadata": {
    "collapsed": true
   },
   "source": [
    "![](./graphics/solutions-microsoft-logo-small.png)\n",
    "\n",
    "# R for Data Professionals\n",
    "\n",
    "<h2><img style=\"float: left; margin: 0px 15px 15px 0px;\" src=\"../graphics/SmallBuck.png\">00 Pre-Requisites</h2>\n",
    "\n",
    "This \"R for Data Professionals\" course is taught using [Jupyter Notebooks](https://notebooks.azure.com/help). You'll be able to run the code samples you see by typing in the R examples as decribed and clicking the \"Run\" button you see at the top of the screen. \n",
    "\n",
    "For the most part, there are no pre-requisites for this course using a Notebook. However, if you would like to learn this material on your own machine, you'll need Microsoft Windows, SQL Server, and Visual Studio. You can of course use the R language on many platforms and in other distributions and with other tools, but using this configuration allows you to stay consistent for instruction during this course. Feel free to use other installations after you complete the course.\n",
    "\n",
    "Read over this section, and then move on to the next notebook."
   ]
  },
  {
   "cell_type": "markdown",
   "metadata": {},
   "source": [
    "<p><img style=\"float: left; margin: 0px 15px 15px 0px;\" src=\"../graphics/aml-logo.png\"><b>Activity 1: Set up the Windows Operating System</b></p>\n",
    "\n",
    "You have three options for setting up Microsoft Windows to complete this course. You can use a Local installation of Windows, a Virtual Machine on your local system, or a Virtual Machine stored in a Cloud provider such as Microsoft Azure. *(The third option is only for classrooms where you have reliable connections to the Internet)*\n",
    "\n",
    "<p><img style=\"float: left; margin: 0px 15px 15px 0px;\" src=\"../graphics/checkbox.png\"><b>Option 1 - Local Installation</b></p>\n",
    "\n",
    "- Install a recent version of Microsoft Windows. For this course, Windows 10, or any current of Windows Server is acceptable.\n",
    "- Install all updates to the operating system.\n",
    "\n",
    "<p><img style=\"float: left; margin: 0px 15px 15px 0px;\" src=\"../graphics/checkbox.png\"><b>Option 2 - Install Windows on a Local Virtual Machine Environment</b></p>\n",
    "\n",
    "- Using your local system, [navigate to this resource](https://developer.microsoft.com/en-us/windows/downloads/virtual-machines) and follow the instructions there.\n",
    "\n",
    "**NOTE: Wait as long as reasonably possible to ensure that the system does not expire - these are free licenses, but they have a time limit**\n",
    "\n",
    "- You can also use whatever Hypervisor you like for your system and install a legal, registered copy of Microsoft Windows.\n",
    "\n",
    "<p><img style=\"float: left; margin: 0px 15px 15px 0px;\" src=\"../graphics/checkbox.png\"><b>Option 3 - Use a Virtual Machine in a Cloud Provider</b></p>\n",
    "\n",
    "- If you have access to the Internet, you can set up a [free Microsoft Azure Account](https://azure.microsoft.com/en-us/free/search/?&OCID=AID631184_SEM_bSHIQHtA&lnkd=Google_Azure_Brand&gclid=Cj0KCQjwpcLZBRCnARIsAMPBgF2myLWEk3Hllm2354GEs0rD1sDST_xcfkFGRdAE8toYZMalbQJ4M3YaAs9UEALw_wcB&dclid=CPDRgcv57tsCFVXE4Qodo-gLzg) and use a [Data Science Virtual Machine](https://docs.microsoft.com/en-us/azure/machine-learning/data-science-virtual-machine/provision-vm). Any size will do, and the free account provides enough resources for a single course. You will not need to install Anaconda, VSCode or SQL Server if you use this choice, as they are already installed for you.\n",
    "- Log in to the system and run [Windows Update](https://support.microsoft.com/en-us/help/4027667/windows-update-windows-10)\n",
    "\n"
   ]
  },
  {
   "cell_type": "markdown",
   "metadata": {},
   "source": [
    "<p><img style=\"float: left; margin: 0px 15px 15px 0px;\" src=\"../graphics/aml-logo.png\"><b>Activity 2: Install SQL Server 2017 with ML Services</b></p>\n",
    "\n",
    "- [Navigate to this resource](https://www.microsoft.com/en-us/sql-server/sql-server-downloads), Select **Developer** from the lower part of the page, and install the **Developer Edition**. Select all components for installation.\n",
    "\n",
    "- Run Windows Update and select the [\"Install updates for other products\" option](https://www.lifewire.com/how-to-change-windows-update-settings-2625778). Apply the latest updates to the classroom system.\n",
    "\n",
    "<p><img style=\"float: left; margin: 0px 15px 15px 0px;\" src=\"../graphics/aml-logo.png\"><b>Activity 3: Install Visual Studio with Machine Learning and Data Science workloads</b></p>\n",
    "\n",
    "- On your classroom system, [install Visual Studio 2017](https://www.visualstudio.com/downloads/) - The free Community Edition is adequate for this course.\n",
    "\n",
    "- During the installation, select the \"Data storage and processing\" and \"Data science and analytical applicaitons\" Workloads.  *(NOTE: [In the Data Science Workload installation box, select ALL optional components on the Summary pane!](https://blogs.msdn.microsoft.com/visualstudio/2016/11/18/data-science-workloads-in-visual-studio-2017-rc/))*\n",
    "\n",
    "- Log in with a Live ID to Visual Studio, let the system load, and apply any updates.\n",
    "\n",
    "- After the updates complete, click the \"R Tools\" menu item and open the \"Interactive R Window\" option (This will verify that the Data Science Workloads add-ins are working, R and Python). Type the following in that panel to ensure the installation was successful:\n",
    "\n",
    "`x <- 10`\n",
    "\n",
    "`x`\n",
    "\n",
    "You should see the result **\\[1\\]10** returned. If not, open the Visual Studio Installer and select the \"Repair\" option.\n",
    "\n"
   ]
  },
  {
   "cell_type": "markdown",
   "metadata": {},
   "source": [
    "<p><img style=\"float: left; margin: 0px 15px 15px 0px;\" src=\"../graphics/thinking.jpg\"><b>For Further Study</b></p>\n",
    "\n",
    "- Platforms supported: https://www.python.org/download/other/ \n",
    "\n",
    "- Installing Python:   https://www.python.org/downloads/\n",
    "\n",
    "- Installing Python using Anaconda: https://www.infoworld.com/article/3267976/python/anaconda-cpython-pypy-and-more-know-your-python-distributions.html\n",
    "\n",
    "Next, Continue to *01 Overview and Course Setup*"
   ]
  },
  {
   "cell_type": "code",
   "execution_count": null,
   "metadata": {},
   "outputs": [],
   "source": []
  }
 ],
 "metadata": {
  "kernelspec": {
   "display_name": "R",
   "language": "R",
   "name": "ir"
  },
  "language_info": {
   "codemirror_mode": "r",
   "file_extension": ".r",
   "mimetype": "text/x-r-source",
   "name": "R",
   "pygments_lexer": "r",
   "version": "3.4.3"
  }
 },
 "nbformat": 4,
 "nbformat_minor": 2
}
