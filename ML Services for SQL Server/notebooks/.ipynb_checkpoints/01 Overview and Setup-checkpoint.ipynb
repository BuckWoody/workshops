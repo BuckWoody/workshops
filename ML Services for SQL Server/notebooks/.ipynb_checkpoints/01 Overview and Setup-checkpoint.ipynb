{
 "cells": [
  {
   "cell_type": "markdown",
   "metadata": {
    "collapsed": true
   },
   "source": [
    "![](../graphics/solutions-microsoft-logo-small.png)\n",
    "\n",
    "# Data Science Projects with SQL Server Machine Learning Services\n",
    "\n",
    "## 01 Overview and Setup\n",
    "\n",
    "In this course you'll cover using a Process and a Platform to create a Machine Learning solution you can deploy on SQL Server. In each section you'll get more references to go deeper, which you should follow up on. Also watch for links within the text - click on each one to explore that topic.\n",
    "\n",
    "Make sure you check out the **00 Pre-Requisites** page before you start. You'll need all of the items loaded there before you can proceed with the course.\n",
    "\n",
    "You'll cover these topics in the course:\n",
    "\n",
    "<dl>\n",
    "  <dt>Course Outline</dt>\n",
    "  <dt>1 Overview and Course Setup <i>(This section)</i></dt>\n",
    "        <dd>1.1 Data Science</dd>\n",
    "        <dd>1.2 The Data Science Process</dd>\n",
    "        <dd>1.3 SQL Server ML Services Architecture</dd>\n",
    "  <dt>2 Business Understanding</dt>\n",
    "  <dt>3 Data Acquisition and Understanding</dt>\n",
    "  <dt>4 Modeling</dt>\n",
    "  <dt>5 Deployment</dt>\n",
    "  <dt>6 Customer Acceptance and Model Retraining</dt>\n",
    "<dl>\n"
   ]
  },
  {
   "cell_type": "markdown",
   "metadata": {},
   "source": [
    "<h2><img style=\"float: left; margin: 0px 15px 15px 0px;\" src=\"../graphics/cortanalogo.png\">Overview</h2>\n",
    "\n",
    "This course covers the Process and Platform you can use for Data Science projects, using SQL Server 2016 and higher. Using Machine Learning Services inside a database engine allows you to keep the data integrity you have built into your RDBMS, provides a high level of security, the ability to work on premises, in the cloud, or in a hybrid fashion, and eliminates data travel outside your database environment. It also allows your data professionals to work in the area they know well, and still allow Data Scientists to work with R or Python to perform predictive, clustering, and categorical models with easy deployment.\n",
    "\n",
    "In this course you'll set up your SQL Server environment and use a client tool to work with a database to create a predictive solution that you will deploy with a Stored Procedure. You'll follow a defined process to understand the business requirements, examine the data from a customer database, create two experiments to find the best model, and deploy the completed model in a Stored Procedure that is called from a client application."
   ]
  },
  {
   "cell_type": "markdown",
   "metadata": {},
   "source": [
    "<h2><img style=\"float: left; margin: 0px 15px 15px 0px;\" src=\"../graphics/cortanalogo.png\">1.1 Data Science</h2>\n",
    "\n",
    "Data Science is an \"umbrella\" term that encompasses almost all Advanced Analytics. It combines the processes from working with data with technology, and also the scientific process.\n",
    "<p>\n",
    "<img src=\"../graphics/DataAndScience.png\" width=\"500\">\n",
    "<p>\n",
    "\n",
    "To work in the Data Science field, it's helpful to have a background in various maths families (linear algebra, statistics, even formal logic), computing data technologies (such as programming in functional and object-oriented languages, database technologies such as NoSQL and RDBMS's, and \"Big Data\" areas such as Spark) and a \"domain\" of knowledge in some general area (finance, healthcare, government, manufacturing and such) or a broad knowledge in many industries. \n",
    "\n",
    "<p>\n",
    "<img src=\"../graphics/NeedToKnow.png\" width=\"200\">\n",
    "<p>\n",
    "\n",
    "The Data Scientist performs multiple types of analysis, from historical descriptive evaluations through predictive and prescriptive analysis.\n",
    "\n",
    "<p>\n",
    "<img src=\"../graphics/TypesOfAnalysis.png\" width=\"500\">\n",
    "<p>\n",
    "\n",
    "To do predictive and prescriptive analysis, the Data Science team leverages *Machine Learning*. Machine Learning technologies consume large amounts of data in the form of *Features* (columns of data that are predictive or classifying in nature) and *Labels* (the data you want to predict or classify). For instance, knowing where someone grew up or traveled to can give you insight into the types of food they might like to eat.\n",
    "\n",
    "There are various \"families\" of algorithms that you can use to answer questions. They include the following:\n",
    "\n",
    "<p>\n",
    "<img src=\"../graphics/MLCapabilities.png\" width=\"500\">\n",
    "<p>\n",
    "\n",
    "Machine Learning uses algorithms to create (train) a completed *Model*. The training looks at various Features and \"learns\" how it affects a supplied \"Label\". It then selects the best path to work with data it has *not* seen. You can then send new data (Features) and the Model will return it's guess for the Label, usually along with how confident it is in the guess.\n",
    "\n",
    "Machine Learning is used in both Deep Learning and Artificial Intelligence. You can see this interaction here:\n",
    "\n",
    "<p>\n",
    "<img src=\"../graphics/AIDLProcess.png\" width=\"500\">\n",
    "<p>\n",
    "\n",
    "Machine Learning, when layered in certain ways, forms the concept of *Deep Learning*. Machine Learning also forms the basis for Artificial Intelligence, which normally involves adding in \"sensory\" areas like vision, text and language.\n",
    "\n",
    "<p>\n",
    "<img src=\"../graphics/AIProgression.png\" width=\"500\">\n",
    "<p>\n",
    "\n",
    "There are various Platforms you can use to implement Machine Learning, such as Spark, Hadoop, AzureML and more. In this course you'll focuson using the SQL Server Platform to create, train, and deploy your completed predictive Model."
   ]
  },
  {
   "cell_type": "markdown",
   "metadata": {},
   "source": [
    "<h2><img style=\"float: left; margin: 0px 15px 15px 0px;\" src=\"../graphics/cortanalogo.png\">1.2 The Data Science Process</h2>\n",
    "\n",
    "Now that you understand the technologies and Platforms behind Data Science, you need to understand a repeatable, scalable Process for your solutions.\n",
    "\n",
    "While it's tempting to start with the algorithms and the outputs, it's actually more important to understand the general process of a Data Science project. To do that, you can use the Team Data Science Process:\n",
    "\n",
    "<p>\n",
    "<img src=\"../graphics/tdsp.png\" width=\"500\">\n",
    "<p>\n",
    "\n",
    "Each of these phases has a specific set of steps you follow to complete them. You'll work with each in the course modules that follow."
   ]
  },
  {
   "cell_type": "markdown",
   "metadata": {},
   "source": [
    "<h4>Phase Two - Data Acquisition and Understanding</h4>\n",
    "\n",
    "Read the [Documentation Reference here](https://docs.microsoft.com/en-us/azure/machine-learning/team-data-science-process/lifecycle-data)\n",
    "\n",
    "The Data Acquisition and Understanding phase of the TDSP you ingest or access data from various locations to answer the questions the organization has asked. In most cases, this data will be in multiple locations. Once the data is ingested into the system, you’ll need to examine it to see what it holds. All data needs cleaning, so after the inspection phase, you’ll replace missing values, add and change columns. You’ve already seen the Libraries you'll need to work with for Data Wrangling - Pandas being the most common in use.\n",
    "\n",
    "<p style=\"border-bottom: 1px solid lightgrey;\"></p> "
   ]
  },
  {
   "cell_type": "markdown",
   "metadata": {},
   "source": [
    "<h4>Phase Three - Modeling</h4>\n",
    "\n",
    "In this phase, you will create the experiment runs, perform feature engineering, and run experiments with various settings and parameters. After selecting the best performing run, you will create a trained model and save it for operationalization in the next phase. This modeling is done with yet another set of Python Libraries - the most common being SciKit Learn and TensorFlow, You'll see this in action in just a bit.\n",
    "\n",
    "Read the [Documentation Reference here](https://docs.microsoft.com/en-us/azure/machine-learning/team-data-science-process/lifecycle-modeling)\n",
    "\n",
    "<p style=\"border-bottom: 1px solid lightgrey;\"></p> "
   ]
  },
  {
   "cell_type": "markdown",
   "metadata": {},
   "source": [
    "<h4>Phase Four - Deployment</h4>\n",
    "\n",
    "In this phase you will take the trained model and any other necessary assets and deploy them to a system that will respond to API requests.\n",
    "\n",
    "Read the [Documentation Reference here](https://docs.microsoft.com/en-us/azure/machine-learning/team-data-science-process/lifecycle-deployment)\n",
    "\n",
    "<p style=\"border-bottom: 1px solid lightgrey;\"></p> "
   ]
  },
  {
   "cell_type": "markdown",
   "metadata": {},
   "source": [
    "<h4>Phase Five - Customer Acceptance</h4>\n",
    "\n",
    "The final phase involves testing the model predictions on real-world queries to ensure that it meets all requirements. In this phase we also document the project so that all parameters are well-known. Finally, a mechanism is created to re-train the model.\n",
    "\n",
    "Read the [Documentation Reference here](https://docs.microsoft.com/en-us/azure/machine-learning/team-data-science-process/lifecycle-acceptance)\n",
    "\n",
    "<p style=\"border-bottom: 1px solid lightgrey;\"></p> "
   ]
  },
  {
   "cell_type": "markdown",
   "metadata": {},
   "source": [
    "<h2><img style=\"float: left; margin: 0px 15px 15px 0px;\" src=\"../graphics/cortanalogo.png\">1.3 SQL Server ML Services Architecture</h2>\n",
    "\n",
    "SQL Server 2016 introduced the R as a companion process inside the SQL Server space. If selected, it installs the Microsoft R Server alongside the SQL Server Instance, and then sets up a Service (*The SQL Launchpad*) allowing the two servers to communicate over a hybrid memory channel. When the R language is called via a special Stored Procedure (which you must enable) SQL Server transfers data to the R Server which runs the R code, and returns the result to the Stored Procedure in SQL Server.\n",
    "\n",
    "<p>\n",
    "<img src=\"../graphics/TSQLAndR.png\" width=\"500\">\n",
    "<p>\n",
    "\n",
    "SQL Server 2017 and later introduced the Python language, as well as R. You can use either language by simply setting a parameter in the Stored Procedure.\n",
    "\n",
    "This allows your SQL Server professionals to work with and hybrid data in the way they are familiar with, and the Data Scientist to develop their R or Python code locally, and then deploying that script to SQL Server by embedding it in a Stored Procedure."
   ]
  },
  {
   "cell_type": "markdown",
   "metadata": {},
   "source": [
    "<p><img style=\"float: left; margin: 0px 15px 15px 0px;\" src=\"../graphics/aml-logo.png\"><b>Activity: Enable external script execution</b></p>\n",
    "\n",
    "- Run SSMS or Visual Studio, connect to your SQL Server Instance, and open a new query window. Then execute the script below to enable your instance to run R scripts in SQL Server.\n",
    "\n",
    "`EXEC sp_configure 'external scripts enabled', 1;`\n",
    "\n",
    "`RECONFIGURE WITH OVERRIDE`\n",
    "\n",
    "- Restart your SQL Server Instance. You can restart in SSMS by right clicking on the instance name in the Object Explorer and choose Restart.\n",
    "\n",
    "*Optional: If you want, [you can also download SSMS custom reports available on github](https://github.com/Microsoft/sql-server-samples/blob/master/samples/features/r-services/ssms-custom-reports/R%20Services%20-%20Configuration.rdl). The report \"R Services - Configuration.rdl\" for example provides an overview of the R runtime parameters and gives you an option to configure your instance with a button click. To import a report in SSMS, right click on Server Objects in the SSMS Object Explorer and choose Reports -> Custom reports. Upload the .rdl file.* "
   ]
  },
  {
   "cell_type": "markdown",
   "metadata": {},
   "source": [
    "<p><img style=\"float: left; margin: 0px 15px 15px 0px;\" src=\"../graphics/thinking.jpg\"><b>For Further Study</b></p>\n",
    "\n",
    "- Primary Documentation: https://docs.microsoft.com/en-us/sql/advanced-analytics/r/sql-server-r-services?view=sql-server-2017  \n",
    "\n",
    "Next, Continue to *02 Business Understanding*"
   ]
  },
  {
   "cell_type": "code",
   "execution_count": null,
   "metadata": {},
   "outputs": [],
   "source": []
  }
 ],
 "metadata": {
  "kernelspec": {
   "display_name": "R",
   "language": "R",
   "name": "ir"
  },
  "language_info": {
   "codemirror_mode": "r",
   "file_extension": ".r",
   "mimetype": "text/x-r-source",
   "name": "R",
   "pygments_lexer": "r",
   "version": "3.4.3"
  }
 },
 "nbformat": 4,
 "nbformat_minor": 2
}
