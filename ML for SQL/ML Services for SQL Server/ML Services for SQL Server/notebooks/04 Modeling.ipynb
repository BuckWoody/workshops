{
 "cells": [
  {
   "cell_type": "markdown",
   "metadata": {
    "collapsed": true
   },
   "source": [
    "![](../graphics/solutions-microsoft-logo-small.png)\n",
    "\n",
    "# Data Science Projects with SQL Server Machine Learning Services\n",
    "\n",
    "## 04 Modeling\n",
    "\n",
    "<p style=\"border-bottom: 1px solid lightgrey;\"></p> \n",
    "<dl>\n",
    "  <dt>Course Outline</dt>\n",
    "  <dt>1 Overview and Course Setup</dt>\n",
    "  <dt>2 Business Understanding</dt>\n",
    "  <dt>3 Data Acquisition and Understanding</dt>\n",
    "  <dt>4 Modeling <i>(This section)</i></dt>\n",
    "        <dd>4.1 Feature Engineering</dd>\n",
    "        <dd>4.2 Training the Model</dd>\n",
    "  <dt>5 Deployment</dt>\n",
    "  <dt>6 Customer Acceptance and Model Retraining</dt>\n",
    "<dl>\n",
    "<p style=\"border-bottom: 1px solid lightgrey;\"></p> \n"
   ]
  },
  {
   "cell_type": "markdown",
   "metadata": {},
   "source": [
    "In this phase, you'll perform feature engineering, create the experiment runs, and run experiments with various settings and parameters. After selecting the best performing run, you'll create a trained model and save it for operationalization in the next phase."
   ]
  },
  {
   "cell_type": "markdown",
   "metadata": {},
   "source": [
    "### Goals for Modeling\n",
    "\n",
    "- Determine the optimal data features for the machine-learning model.\n",
    "- Create an informative machine-learning model that predicts the target most accurately.\n",
    "- Create a machine-learning model that's suitable for production.\n",
    "\n",
    "### How to do it\n",
    "\n",
    "- Feature engineering: Create data features from the raw data to facilitate model training.\n",
    "- Model training: Find the model that answers the question most accurately by comparing their success metrics.\n",
    "- Determine if your model is suitable for production.\n"
   ]
  },
  {
   "cell_type": "markdown",
   "metadata": {},
   "source": [
    "<p><img style=\"float: left; margin: 0px 15px 15px 0px;\" src=\"../graphics/cortanalogo.png\"><b>4.1 Data Engineering</b></p>\n",
    "\n",
    "Often times, the data needs to be prepared and cleaned before you start training the Model. In this course, most of the preparations have already been done within the database, but to work with an R model, you'll convert certain values to factors, making them categorical."
   ]
  },
  {
   "cell_type": "markdown",
   "metadata": {},
   "source": [
    "<p><img style=\"float: left; margin: 0px 15px 15px 0px;\" src=\"../graphics/aml-logo.png\"><b>Activity: Set three Features to Categorical Data using R</b></p>\n",
    "\n",
    "- Using your last connection from your R tool, run the following code:"
   ]
  },
  {
   "cell_type": "code",
   "execution_count": null,
   "metadata": {},
   "outputs": [],
   "source": [
    "# Changing the three factor columns to factor types\n",
    "# This helps when building the model because we are explicitly saying that these values are categorical\n",
    "rentaldata$Holiday <- factor(rentaldata$Holiday);\n",
    "rentaldata$Snow <- factor(rentaldata$Snow);\n",
    "rentaldata$WeekDay <- factor(rentaldata$WeekDay);\n",
    "\n",
    "# Visualize the dataset after the change\n",
    "str(rentaldata);\n"
   ]
  },
  {
   "cell_type": "markdown",
   "metadata": {},
   "source": [
    "- You can extend this example to show the new data types in your R Data Frame."
   ]
  },
  {
   "cell_type": "markdown",
   "metadata": {},
   "source": [
    "<p><img style=\"float: left; margin: 0px 15px 15px 0px;\" src=\"../graphics/cortanalogo.png\"><b>4.2 Train the Model</b></p>\n",
    "\n",
    "In order to predict using a Model, you have to first find a function that best describes the dependency between the variables in your dataset. This step is called *training the model*. The training dataset will be a subset of the entire dataset. In the next exercise you are going to create two different models and see which one is predicting most accurately - one using a simple linear model and another than uses a tree.\n",
    "\n",
    "One set of data is used to train your model, and the other to test how well it performed. In this activity you will use a natural year-break to create the testing and training data. This is a process you should repeat with different ways of separating this data, since one year might have factors that unduly weight the results. "
   ]
  },
  {
   "cell_type": "markdown",
   "metadata": {},
   "source": [
    "<p><img style=\"float: left; margin: 0px 15px 15px 0px;\" src=\"../graphics/aml-logo.png\"><b>Activity: Create an Experiment with two Algorithms</b></p>\n",
    "\n",
    "- Using your last connection from your R tool, run the following code to create an experiment:"
   ]
  },
  {
   "cell_type": "code",
   "execution_count": null,
   "metadata": {},
   "outputs": [],
   "source": [
    "# Split the dataset into 2 different sets:\n",
    "# One set for training the model and the other for validating it\n",
    "train_data = rentaldata[rentaldata$Year < 2015,];\n",
    "test_data = rentaldata[rentaldata$Year == 2015,];\n",
    "\n",
    "# Use this column to check the quality of the prediction against actual values\n",
    "actual_counts <- test_data$RentalCount;\n",
    "\n",
    "# Model 1: Use rxLinMod to create a linear regression model. We are training the data using the training data set\n",
    "model_linmod <- rxLinMod(RentalCount ~  Month + Day + WeekDay + Snow + Holiday, data = train_data);\n",
    "\n",
    "# Model 2: Use rxDTree to create a decision tree model. We are training the data using the training data set\n",
    "model_dtree <- rxDTree(RentalCount ~ Month + Day + WeekDay + Snow + Holiday, data = train_data);\n"
   ]
  },
  {
   "cell_type": "markdown",
   "metadata": {},
   "source": [
    "- Now create a prediction run to record how each model records:\n"
   ]
  },
  {
   "cell_type": "code",
   "execution_count": null,
   "metadata": {},
   "outputs": [],
   "source": [
    "# Use the models you just created to predict using the test data set \n",
    "# that enables you to compare actual values of RentalCount from the two models and compare to the actual values in the test data set:\n",
    "predict_linmod <- rxPredict(model_linmod, test_data, writeModelVars = TRUE, extraVarsToWrite = c(\"Year\"));\n",
    "\n",
    "predict_dtree <- rxPredict(model_dtree, test_data, writeModelVars = TRUE, extraVarsToWrite = c(\"Year\"));\n",
    "\n",
    "# Look at the top rows of the two prediction data sets:\n",
    "head(predict_linmod);\n",
    "head(predict_dtree);"
   ]
  },
  {
   "cell_type": "markdown",
   "metadata": {},
   "source": [
    "- Now compare them. This is best done in this case with a series of scatterplots:"
   ]
  },
  {
   "cell_type": "code",
   "execution_count": null,
   "metadata": {},
   "outputs": [],
   "source": [
    "# Plot the difference between actual and predicted values for both models to compare accuracy:\n",
    "par(mfrow = c(2, 1));\n",
    "plot(predict_linmod$RentalCount_Pred - predict_linmod$RentalCount, main = \"Difference between actual and predicted. rxLinmod\");\n",
    "plot(predict_dtree$RentalCount_Pred - predict_dtree$RentalCount, main = \"Difference between actual and predicted. rxDTree\");"
   ]
  },
  {
   "cell_type": "markdown",
   "metadata": {},
   "source": [
    "- Which experiment had the best prediction?\n",
    "- What hyperparameters can you change to affect the outcome?"
   ]
  },
  {
   "cell_type": "markdown",
   "metadata": {},
   "source": [
    "<p><img style=\"float: left; margin: 0px 15px 15px 0px;\" src=\"../graphics/thinking.jpg\"><b>For Further Study</b></p>\n",
    " - Learn more about Feature Engineering and Modeling here: https://docs.microsoft.com/en-us/azure/machine-learning/team-data-science-process/lifecycle-modeling "
   ]
  },
  {
   "cell_type": "code",
   "execution_count": null,
   "metadata": {},
   "outputs": [],
   "source": []
  }
 ],
 "metadata": {
  "kernelspec": {
   "display_name": "R",
   "language": "R",
   "name": "ir"
  },
  "language_info": {
   "codemirror_mode": "r",
   "file_extension": ".r",
   "mimetype": "text/x-r-source",
   "name": "R",
   "pygments_lexer": "r",
   "version": "3.4.3"
  }
 },
 "nbformat": 4,
 "nbformat_minor": 2
}
